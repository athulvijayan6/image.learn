{
 "cells": [
  {
   "cell_type": "markdown",
   "metadata": {},
   "source": [
    "# Brain inspired sequence learning from Static Images"
   ]
  },
  {
   "cell_type": "markdown",
   "metadata": {},
   "source": [
    "The success of deep learning in various domains of artificial intelligence once again proves the magnificance of Mother nature and biomimicry. Neural networks Convolutional deep neural networks try to mimic/borrow topology from the visual cortex of an animal brain. The pixel intensity of a digital image is analogous to the itensity of light falling on a particular retina cell. The cells of retina are called rods and cons.\n",
    "\n",
    "The neurons in the lower layers of visual pathway of the brain is sparsely connected. Each neuron in the first layer is connected to only a subset of retina cells - This sparse connectivity is visible in further layers of the visual pathway too. The set of neurons in $(n - 1)^{th}$ layer which are connected to a neuron in $n^{th}$ layer is called the receptive field of the latter neuron. In CNNs, convolution operation using kernels does similar operations.\n",
    "\n",
    "The similarities between results from neuroscience world and deep learning world are inspiring. Using various techniques likes probing and florescence tagging, neuroscientists are able to study the behaviour of neurons in the visual pathway. layer by layer.! There is a layer of neurons right under the rods and cons of retina, which are directly responsive to light intensity on its receptive field.\n",
    "As we go to the further layers experiments observed that a simple intensity change will not fire neurons in the deeper layers. XXX layer neurons are sensitive to a contrasting surface in their receptive field."
   ]
  },
  {
   "cell_type": "markdown",
   "metadata": {},
   "source": [
    "Will start with adding required libraries"
   ]
  },
  {
   "cell_type": "code",
   "execution_count": 1,
   "metadata": {
    "collapsed": true
   },
   "outputs": [],
   "source": [
    "import tensorflow as tf\n",
    "import numpy as np\n",
    "import timeit"
   ]
  },
  {
   "cell_type": "markdown",
   "metadata": {},
   "source": [
    "We will be using ImageNet dataset for benchmarking our model performance. It will be compared with 5 state of the art algorithms for the dataset."
   ]
  },
  {
   "cell_type": "markdown",
   "metadata": {},
   "source": []
  }
 ],
 "metadata": {
  "kernelspec": {
   "display_name": "Python 3",
   "language": "python",
   "name": "python3"
  },
  "language_info": {
   "codemirror_mode": {
    "name": "ipython",
    "version": 3
   },
   "file_extension": ".py",
   "mimetype": "text/x-python",
   "name": "python",
   "nbconvert_exporter": "python",
   "pygments_lexer": "ipython3",
   "version": "3.5.2"
  }
 },
 "nbformat": 4,
 "nbformat_minor": 2
}
